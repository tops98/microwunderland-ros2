{
  "nbformat": 4,
  "nbformat_minor": 0,
  "metadata": {
    "colab": {
      "provenance": [],
      "gpuType": "T4"
    },
    "kernelspec": {
      "name": "python3",
      "display_name": "Python 3"
    },
    "language_info": {
      "name": "python"
    },
    "accelerator": "GPU"
  },
  "cells": [
    {
      "cell_type": "markdown",
      "source": [
        "# Setup for Object Detection API and tensorflow"
      ],
      "metadata": {
        "id": "PmDsWW8OW11J"
      }
    },
    {
      "cell_type": "markdown",
      "source": [
        "##Check Tensorflow version"
      ],
      "metadata": {
        "id": "e-OZDMvI1LWb"
      }
    },
    {
      "cell_type": "code",
      "execution_count": null,
      "metadata": {
        "id": "c52sAE1r0aUI"
      },
      "outputs": [],
      "source": [
        "from google.colab import drive\n",
        "import tensorflow as tf\n",
        "import os\n",
        "\n",
        "print(tf.version.VERSION)\n",
        "drive.mount('/content/drive/')\n",
        "# os.environ['WS'] = '/content/drive/MyDrive/colab_object_detection_setup'\n",
        "os.chdir('/content/drive/MyDrive/colab_object_detection_setup')"
      ]
    },
    {
      "cell_type": "markdown",
      "source": [
        "## Install Object Detection API"
      ],
      "metadata": {
        "id": "YUV4CtZs1Rf4"
      }
    },
    {
      "cell_type": "markdown",
      "source": [
        "### Clone Repository"
      ],
      "metadata": {
        "id": "sr4SIe0R5SNy"
      }
    },
    {
      "cell_type": "code",
      "source": [
        "!git clone https://github.com/tensorflow/models.git Tensorflow/models"
      ],
      "metadata": {
        "id": "zLorJ4Md1Kej"
      },
      "execution_count": null,
      "outputs": []
    },
    {
      "cell_type": "markdown",
      "source": [
        "### Build Protokollbuffers"
      ],
      "metadata": {
        "id": "ey1GVpYN54wq"
      }
    },
    {
      "cell_type": "code",
      "source": [
        "%cd Tensorflow/models/research\n",
        "!protoc object_detection/protos/*.proto --python_out=."
      ],
      "metadata": {
        "id": "Cy7cpra059Mh"
      },
      "execution_count": null,
      "outputs": []
    },
    {
      "cell_type": "markdown",
      "source": [
        "### Install Dependencies"
      ],
      "metadata": {
        "id": "ZvilW7Go5WS4"
      }
    },
    {
      "cell_type": "code",
      "source": [
        "# !cp object_detection/packages/tf2/setup.py .\n",
        "!python -m pip install ."
      ],
      "metadata": {
        "id": "G5IfdRTu4C02"
      },
      "execution_count": null,
      "outputs": []
    },
    {
      "cell_type": "markdown",
      "source": [
        "### Verify installation"
      ],
      "metadata": {
        "id": "_GNONH8S5bnN"
      }
    },
    {
      "cell_type": "code",
      "source": [
        "!python object_detection/builders/model_builder_tf2_test.py"
      ],
      "metadata": {
        "id": "uDSIsIeP4mj2"
      },
      "execution_count": null,
      "outputs": []
    },
    {
      "cell_type": "markdown",
      "source": [
        "# Create workspace for training"
      ],
      "metadata": {
        "id": "OHi5lYw_V2sw"
      }
    },
    {
      "cell_type": "code",
      "source": [
        "os.chdir('/content/drive/MyDrive/colab_object_detection_setup/Tensorflow')\n",
        "!mkdir workspace\n",
        "!mkdir workspace/demo_training\n",
        "!mkdir workspace/demo_training/compressed_records\n",
        "!mkdir workspace/demo_training/annotations\n",
        "!mkdir workspace/demo_training/exported-models\n",
        "!mkdir workspace/demo_training/exported-models/custom_SSD_MobileNet_V2_FPNLite_320x320\n",
        "!mkdir workspace/demo_training/images/\n",
        "!mkdir workspace/demo_training/images/test\n",
        "!mkdir workspace/demo_training/images/train\n",
        "!mkdir workspace/demo_training/models\n",
        "!mkdir workspace/demo_training/models/custom_SSD_MobileNet_V2_FPNLite_320x320\n",
        "!mkdir workspace/demo_training/pre-trained-models\n",
        "!touch workspace/demo_training/README.md"
      ],
      "metadata": {
        "id": "wVQ92IciXHX8"
      },
      "execution_count": null,
      "outputs": []
    },
    {
      "cell_type": "markdown",
      "source": [
        "## Load exported records from roboflow\n",
        "\n",
        "Before executing the code below upload the zip file to the compressed_records directory"
      ],
      "metadata": {
        "id": "EnRAUeVudmCR"
      }
    },
    {
      "cell_type": "code",
      "source": [
        "%cd workspace/demo_training/\n",
        "!unzip compressed_records/microwunderland.v1i.tfrecord.zip -d compressed_records/\n",
        "!mv compressed_records/train compressed_records/test annotations/"
      ],
      "metadata": {
        "id": "nwtA4txAdwkA"
      },
      "execution_count": null,
      "outputs": []
    },
    {
      "cell_type": "markdown",
      "source": [
        "## Download model from [tesnorflow model zoo](https://github.com/tensorflow/models/blob/master/research/object_detection/g3doc/tf2_detection_zoo.md)\n",
        "\n",
        "Selected model for this workspace is ***SSD MobileNet V2 FPNLite 320x320***"
      ],
      "metadata": {
        "id": "nCvdTcADhhmh"
      }
    },
    {
      "cell_type": "code",
      "source": [
        "!wget -P pre-trained-models/ http://download.tensorflow.org/models/object_detection/tf2/20200711/ssd_mobilenet_v2_fpnlite_320x320_coco17_tpu-8.tar.gz\n",
        "!tar -xf pre-trained-models/ssd_mobilenet_v2_fpnlite_320x320_coco17_tpu-8.tar.gz -C pre-trained-models/"
      ],
      "metadata": {
        "id": "NxZyOQsZiIy9"
      },
      "execution_count": null,
      "outputs": []
    },
    {
      "cell_type": "markdown",
      "source": [
        "## Configure the Training Pipeline"
      ],
      "metadata": {
        "id": "KHFP6IJOjyry"
      }
    },
    {
      "cell_type": "code",
      "source": [
        "!cp pre-trained-models/ssd_mobilenet_v2_fpnlite_320x320_coco17_tpu-8/pipeline.config models/custom_SSD_MobileNet_V2_FPNLite_320x320"
      ],
      "metadata": {
        "id": "pvQHC2VNj41m"
      },
      "execution_count": null,
      "outputs": []
    },
    {
      "cell_type": "markdown",
      "source": [
        "Copy original pipline config to the directory where the cutomized model will be saved. Then configure the file so it fits your training data. Attributes that should be checked are listed below:\n",
        "\n",
        "+ num_classes\n",
        "+ batch_size\n",
        "+ fine_tune_checkpoint\n",
        "+ fine_tune_checkpoint_type\n",
        "+ use_bfloat16\n",
        "+ label_map_path\n",
        "+ input_path\n",
        "+ metrics_set\n",
        "+ use_moving_averages\n",
        "+ label_map_path\n",
        "+ input_path"
      ],
      "metadata": {
        "id": "-ZVU__cg_tsA"
      }
    },
    {
      "cell_type": "markdown",
      "source": [
        "## Train the Model"
      ],
      "metadata": {
        "id": "DhqvI4Yi_zVn"
      }
    },
    {
      "cell_type": "markdown",
      "source": [
        "copy training script"
      ],
      "metadata": {
        "id": "K9QP9SM-BvMP"
      }
    },
    {
      "cell_type": "code",
      "source": [
        "# !cp /content/drive/MyDrive/colab_object_detection_setup/Tensorflow/models/research/object_detection/model_main_tf2.py .\n",
        "!cp /content/drive/MyDrive/colab_object_detection_setup/Tensorflow/models/research/object_detection/exporter_main_v2.py ."
      ],
      "metadata": {
        "id": "pWFLftoQ_6Fc"
      },
      "execution_count": null,
      "outputs": []
    },
    {
      "cell_type": "markdown",
      "source": [
        "start tensorboard"
      ],
      "metadata": {
        "id": "0n42T6UaB23U"
      }
    },
    {
      "cell_type": "code",
      "source": [
        "# Load the TensorBoard notebook extension\n",
        "%load_ext tensorboard\n",
        "# Add to tf.keras callback\n",
        "tensorboard_callback = tf.keras.callbacks.TensorBoard(\"models/custom_SSD_MobileNet_V2_FPNLite_320x320\", update_freq='batch')"
      ],
      "metadata": {
        "id": "lXID3vY4FaHy"
      },
      "execution_count": null,
      "outputs": []
    },
    {
      "cell_type": "code",
      "source": [
        "%tensorboard --logdir models/custom_SSD_MobileNet_V2_FPNLite_320x320"
      ],
      "metadata": {
        "id": "3N5TuBEZB6oY"
      },
      "execution_count": null,
      "outputs": []
    },
    {
      "cell_type": "markdown",
      "source": [
        "## Start training"
      ],
      "metadata": {
        "id": "lE_Ynf3KByDd"
      }
    },
    {
      "cell_type": "code",
      "source": [
        "# Training script\n",
        "!python model_main_tf2.py --model_dir=models/custom_SSD_MobileNet_V2_FPNLite_320x320 --pipeline_config_path=models/custom_SSD_MobileNet_V2_FPNLite_320x320/pipeline.config"
      ],
      "metadata": {
        "id": "f1NsSUM8BQZN"
      },
      "execution_count": null,
      "outputs": []
    },
    {
      "cell_type": "markdown",
      "source": [
        "## Export"
      ],
      "metadata": {
        "id": "m5MQ7iP_ZyzJ"
      }
    },
    {
      "cell_type": "code",
      "source": [
        "!python exporter_main_v2.py --input_type image_tensor --pipeline_config_path models/custom_SSD_MobileNet_V2_FPNLite_320x320/pipeline.config --trained_checkpoint_dir models/custom_SSD_MobileNet_V2_FPNLite_320x320/ --output_directory exported-models/custom_SSD_MobileNet_V2_FPNLite_320x320"
      ],
      "metadata": {
        "id": "XMKb2WAwZ2pg"
      },
      "execution_count": null,
      "outputs": []
    },
    {
      "cell_type": "markdown",
      "source": [
        "## Convert to TF-Light Format"
      ],
      "metadata": {
        "id": "ehZoasR_Njtm"
      }
    },
    {
      "cell_type": "markdown",
      "source": [
        "Export tflight graph"
      ],
      "metadata": {
        "id": "ClpqbuG9bWa-"
      }
    },
    {
      "cell_type": "code",
      "source": [
        "%cd /content/drive/MyDrive/colab_object_detection_setup/Tensorflow/workspace/demo_training\n",
        "# Export script\n",
        "!python export_tflite_graph_tf2.py \\\n",
        "    --pipeline_config_path models/custom_SSD_MobileNet_V2_FPNLite_320x320/pipeline.config \\\n",
        "    --trained_checkpoint_dir models/custom_SSD_MobileNet_V2_FPNLite_320x320/ \\\n",
        "    --output_directory exported-models/TF-Light"
      ],
      "metadata": {
        "id": "Adt_xJoXcqYu"
      },
      "execution_count": null,
      "outputs": []
    },
    {
      "cell_type": "code",
      "source": [
        "model_path = \"/content/drive/MyDrive/colab_object_detection_setup/Tensorflow/workspace/demo_training/exported-models/custom_SSD_MobileNet_V2_FPNLite_320x320_v2/saved_model\"\n",
        "converter = tf.lite.TFLiteConverter.from_saved_model(model_path)\n",
        "tflite_model = converter.convert()"
      ],
      "metadata": {
        "id": "k64ycnNuNjVB"
      },
      "execution_count": null,
      "outputs": []
    },
    {
      "cell_type": "code",
      "source": [
        "# !mkdir /content/drive/MyDrive/colab_object_detection_setup/Tensorflow/workspace/demo_training/exported-models/TF-Light/\n",
        "tflite_model_path = \"/content/drive/MyDrive/colab_object_detection_setup/Tensorflow/workspace/demo_training/exported-models/TF-Light/tflite.tf\"\n",
        "with open(tflite_model_path, 'wb') as f:\n",
        "    f.write(tflite_model)\n"
      ],
      "metadata": {
        "id": "vNZ1yke-N3wc"
      },
      "execution_count": null,
      "outputs": []
    },
    {
      "cell_type": "markdown",
      "source": [
        "## Test base model inference"
      ],
      "metadata": {
        "id": "itQObxHIi0k8"
      }
    },
    {
      "cell_type": "code",
      "source": [
        "# load model\n",
        "model_path = \"/content/drive/MyDrive/colab_object_detection_setup/Tensorflow/workspace/demo_training/exported-models/custom_SSD_MobileNet_V2_FPNLite_320x320/saved_model\"\n",
        "model = tf.saved_model.load(model_path)\n"
      ],
      "metadata": {
        "id": "DGeeUUKti8JZ"
      },
      "execution_count": null,
      "outputs": []
    },
    {
      "cell_type": "code",
      "source": [
        "import cv2\n",
        "\n",
        "\n",
        "# load image\n",
        "path = \"/content/drive/MyDrive/colab_object_detection_setup/Tensorflow/workspace/demo_training/images/valid/55_jpg.rf.ab54b108574648dadf0bc9abf8317f80.jpg\"\n",
        "image = cv2.imread(path)\n",
        "\n"
      ],
      "metadata": {
        "id": "QSzAxQYW_f0l"
      },
      "execution_count": null,
      "outputs": []
    },
    {
      "cell_type": "code",
      "source": [
        "# do inference\n",
        "\n",
        "# The input needs to be a tensor, convert it using `tf.convert_to_tensor`.\n",
        "input_tensor = tf.convert_to_tensor(image)\n",
        "# The model expects a batch of images, so add an axis with `tf.newaxis`.\n",
        "input_tensor = input_tensor[tf.newaxis, ...]\n",
        "prediction = model(input_tensor)\n",
        "\n",
        "print(prediction)"
      ],
      "metadata": {
        "id": "-KBlbDjBANzR"
      },
      "execution_count": null,
      "outputs": []
    },
    {
      "cell_type": "code",
      "source": [
        "\n",
        "\n",
        "def draw_bounds(image,index):\n",
        "  start_point = (int(320*prediction[\"detection_boxes\"][0][index][0]),int(320*prediction[\"detection_boxes\"][0][index][1]))\n",
        "  end_point = (int(320*prediction[\"detection_boxes\"][0][index][2]),int(320*prediction[\"detection_boxes\"][0][index][3]))\n",
        "  thickness = 2\n",
        "  color = (255,0,0)\n",
        "  print(f\"start: {start_point}\")\n",
        "  print(f\"end: {end_point}\")\n",
        "  return cv2.rectangle(image, start_point, end_point, color, thickness)"
      ],
      "metadata": {
        "id": "WopqnuM-4MlV"
      },
      "execution_count": null,
      "outputs": []
    },
    {
      "cell_type": "code",
      "source": [
        "from google.colab.patches import cv2_imshow\n",
        "\n",
        "last_reliable_prediction = 0\n",
        "confidence_limit = 0.7\n",
        "image = cv2.imread(path)\n",
        "image = cv2.rotate(image,rotateCode = cv2.ROTATE_90_CLOCKWISE)\n",
        "image = cv2.flip(image,1)\n",
        "\n",
        "for last_reliable_prediction,score in enumerate(prediction[\"detection_scores\"][0]):\n",
        "  if score < confidence_limit:\n",
        "    break\n",
        "\n",
        "for i in range(0,last_reliable_prediction):\n",
        "  print(prediction[\"detection_scores\"][0][i])\n",
        "  print(prediction[\"detection_classes\"][0][i])\n",
        "  print(prediction[\"detection_boxes\"][0][i])\n",
        "  print(\"--------------------------------------\\n\")\n",
        "  image = draw_bounds(image,i)\n",
        "\n",
        "\n",
        "# Displaying the image\n",
        "cv2_imshow(image)"
      ],
      "metadata": {
        "id": "XNzlWc5B0PlB",
        "collapsed": true
      },
      "execution_count": null,
      "outputs": []
    },
    {
      "cell_type": "markdown",
      "source": [
        "## Test TF-Light Model inference"
      ],
      "metadata": {
        "id": "1FBrhCCcQzt4"
      }
    },
    {
      "cell_type": "code",
      "source": [
        "import numpy as np\n",
        "import tensorflow as tf\n",
        "import cv2\n",
        "from google.colab.patches import cv2_imshow"
      ],
      "metadata": {
        "id": "aqVsJlMJQ4aN"
      },
      "execution_count": null,
      "outputs": []
    },
    {
      "cell_type": "markdown",
      "source": [
        "Load TF-Light Model"
      ],
      "metadata": {
        "id": "OUvXlnIKRSln"
      }
    },
    {
      "cell_type": "code",
      "source": [
        "tflite_model_path = \"/content/drive/MyDrive/colab_object_detection_setup/Tensorflow/workspace/demo_training/exported-models/TF-Light/tflite.tf\"\n",
        "interpreter = tf.lite.Interpreter(model_path=tflite_model_path)\n",
        "interpreter.allocate_tensors()"
      ],
      "metadata": {
        "id": "ZOIYisU_RDP8"
      },
      "execution_count": null,
      "outputs": []
    },
    {
      "cell_type": "markdown",
      "source": [
        "get input and output tensors"
      ],
      "metadata": {
        "id": "GC-9WsCCRVUr"
      }
    },
    {
      "cell_type": "code",
      "source": [
        "input_details = interpreter.get_input_details()\n",
        "output_details = interpreter.get_output_details()"
      ],
      "metadata": {
        "id": "9oOq-7AfRHa8"
      },
      "execution_count": null,
      "outputs": []
    },
    {
      "cell_type": "markdown",
      "source": [
        "load image"
      ],
      "metadata": {
        "id": "ni4q0Oi5SRae"
      }
    },
    {
      "cell_type": "code",
      "source": [
        "# load image\n",
        "mean = 127.5\n",
        "std = 127.5\n",
        "path = \"/content/drive/MyDrive/colab_object_detection_setup/Tensorflow/workspace/demo_training/images/valid/96_jpg.rf.15494bf46bd50f4690022f66dfef10c0.jpg\"\n",
        "image = cv2.imread(path)\n",
        "input_data = np.expand_dims(image,axis=0)\n",
        "normalized_image_array = (np.float32(input_data) - mean)/std\n",
        "print(input_details[0]['dtype'])"
      ],
      "metadata": {
        "id": "iN947xEhST_N"
      },
      "execution_count": null,
      "outputs": []
    },
    {
      "cell_type": "markdown",
      "source": [
        "predict"
      ],
      "metadata": {
        "id": "FS0nq2QTRsJ5"
      }
    },
    {
      "cell_type": "code",
      "source": [
        "interpreter.set_tensor(input_details[0]['index'], normalized_image_array)\n",
        "interpreter.invoke()\n",
        "\n",
        "# Abrufen der Vorhersageergebnisse\n",
        "boxes = (interpreter.get_tensor(output_details[1]['index'])[0])\n",
        "classes = (interpreter.get_tensor(output_details[3]['index'])[0])\n",
        "confidence = (interpreter.get_tensor(output_details[0]['index'])[0])\n",
        "\n",
        "results = [boxes,classes,confidence]"
      ],
      "metadata": {
        "id": "9y3Ow9rZRKFB"
      },
      "execution_count": null,
      "outputs": []
    },
    {
      "cell_type": "code",
      "source": [
        "image = cv2.imread(path)\n",
        "threshold = 0.7\n",
        "color = (0,255,0)\n",
        "line_thickness = 1\n",
        "image_shape = image.shape\n",
        "image = cv2.rotate(image,rotateCode = cv2.ROTATE_90_CLOCKWISE)\n",
        "image = cv2.flip(image,1)\n",
        "\n",
        "for i in range(0,len(results[1])):\n",
        "  if(results[2][i] < threshold):\n",
        "    break\n",
        "\n",
        "  pos1 = ( int(image_shape[0]*results[0][i][0]), int(image_shape[1]*results[0][i][1]))\n",
        "  pos2 = ( int(image_shape[0]*results[0][i][2]), int(image_shape[1]*results[0][i][3]))\n",
        "  cv2.rectangle(image, pos1, pos2, color, line_thickness)\n",
        "\n",
        "print(i)\n",
        "cv2_imshow(image)"
      ],
      "metadata": {
        "id": "oSmkiqpslVqA"
      },
      "execution_count": null,
      "outputs": []
    }
  ]
}